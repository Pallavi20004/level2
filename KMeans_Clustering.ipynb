{
  "nbformat": 4,
  "nbformat_minor": 0,
  "metadata": {
    "colab": {
      "provenance": [],
      "authorship_tag": "ABX9TyPjr4y7OZ43HBMnw15T26Hb",
      "include_colab_link": true
    },
    "kernelspec": {
      "name": "python3",
      "display_name": "Python 3"
    },
    "language_info": {
      "name": "python"
    }
  },
  "cells": [
    {
      "cell_type": "markdown",
      "metadata": {
        "id": "view-in-github",
        "colab_type": "text"
      },
      "source": [
        "<a href=\"https://colab.research.google.com/github/Pallavi20004/level2/blob/main/KMeans_Clustering.ipynb\" target=\"_parent\"><img src=\"https://colab.research.google.com/assets/colab-badge.svg\" alt=\"Open In Colab\"/></a>"
      ]
    },
    {
      "cell_type": "markdown",
      "source": [
        "######Step 1: Import Required Libraries"
      ],
      "metadata": {
        "id": "HBjltOrJ1_D0"
      }
    },
    {
      "cell_type": "code",
      "source": [
        "from keras.datasets import mnist\n",
        "import matplotlib.pyplot as plt\n",
        "from sklearn.cluster import MiniBatchKMeans\n",
        "import numpy as np\n",
        "from scipy import sparse\n",
        "from sklearn.metrics import accuracy_score\n",
        "\n"
      ],
      "metadata": {
        "id": "_W2F2n6A2Clg"
      },
      "execution_count": null,
      "outputs": []
    },
    {
      "cell_type": "markdown",
      "source": [
        "##### Step 2: Load the MNIST Dataset\n",
        "The MNIST dataset contains grayscale images of handwritten digits (0-9), with corresponding labels. We load the dataset using Keras."
      ],
      "metadata": {
        "id": "SF1lHc_R2Nn3"
      }
    },
    {
      "cell_type": "code",
      "source": [
        "(x_train, y_train), (x_test, y_test) = mnist.load_data()\n",
        "\n",
        "print(x_train.shape)  # (60000, 28, 28)\n",
        "print(x_test.shape)   # (10000, 28, 28)\n",
        "print(y_train.shape)  # (60000,)\n",
        "print(y_test.shape)   # (10000,)\n",
        "\n"
      ],
      "metadata": {
        "colab": {
          "base_uri": "https://localhost:8080/"
        },
        "id": "oCW20EpY23Mx",
        "outputId": "c02c823a-2f6d-4dc4-cd39-07b4fee5bb9f"
      },
      "execution_count": null,
      "outputs": [
        {
          "output_type": "stream",
          "name": "stdout",
          "text": [
            "(60000, 28, 28)\n",
            "(10000, 28, 28)\n",
            "(60000,)\n",
            "(10000,)\n"
          ]
        }
      ]
    },
    {
      "cell_type": "markdown",
      "source": [
        "######Step 3: Visualize Some MNIST Images"
      ],
      "metadata": {
        "id": "PyTOH_gh3BhU"
      }
    },
    {
      "cell_type": "markdown",
      "source": [],
      "metadata": {
        "id": "xaz_lv_b3Ic6"
      }
    },
    {
      "cell_type": "code",
      "source": [
        "plt.figure(figsize=(6, 8))\n",
        "indices = np.random.choice(len(x_train), 6, replace=False)\n",
        "\n",
        "for i, idx in enumerate(indices):\n",
        "    plt.subplot(3, 2, i + 1)\n",
        "    plt.imshow(x_train[idx], cmap='inferno')\n",
        "    plt.title(f'Label: {y_train[idx]}')\n",
        "plt.show()\n",
        "\n"
      ],
      "metadata": {
        "colab": {
          "base_uri": "https://localhost:8080/",
          "height": 699
        },
        "id": "bDg7RDy630cP",
        "outputId": "5638af2a-56c7-4866-d3be-e59953348ca2"
      },
      "execution_count": null,
      "outputs": [
        {
          "output_type": "display_data",
          "data": {
            "text/plain": [
              "<Figure size 600x800 with 6 Axes>"
            ],
            "image/png": "[encoded data removed]"
          },
          "metadata": {}
        }
      ]
    },
    {
      "cell_type": "markdown",
      "source": [
        "##### Step 4: Data Preprocessing"
      ],
      "metadata": {
        "id": "oXV1GrIC37Gv"
      }
    },
    {
      "cell_type": "code",
      "source": [
        "# Normalize pixel values to the range [0, 1]\n",
        "x_train = x_train.astype('float32') / 255.0\n",
        "x_test = x_test.astype('float32') / 255.0\n",
        "\n",
        "# Reshape the images from 28x28 to 784-dimensional vectors\n",
        "X_train = x_train.reshape(len(x_train), -1)\n",
        "X_test = x_test.reshape(len(x_test), -1)\n",
        "\n",
        "print(X_train.shape)  # (60000, 784)\n",
        "print(X_test.shape)   # (10000, 784)\n",
        "\n"
      ],
      "metadata": {
        "colab": {
          "base_uri": "https://localhost:8080/"
        },
        "id": "YJrsElxn3-P2",
        "outputId": "a11d4c1c-e109-459c-d3d7-3f07079a07e7"
      },
      "execution_count": null,
      "outputs": [
        {
          "output_type": "stream",
          "name": "stdout",
          "text": [
            "(60000, 784)\n",
            "(10000, 784)\n"
          ]
        }
      ]
    },
    {
      "cell_type": "markdown",
      "source": [],
      "metadata": {
        "id": "td2Bbk3y4C6g"
      }
    },
    {
      "cell_type": "markdown",
      "source": [
        "######Step 5: Build the Model Using MiniBatch KMeans"
      ],
      "metadata": {
        "id": "2kxgTJMZ4C_l"
      }
    },
    {
      "cell_type": "code",
      "source": [
        "# No. of clusters (digits 0-9)\n",
        "total_clusters = len(np.unique(y_test))\n",
        "\n",
        "# Initialize KMeans model\n",
        "kmeans = MiniBatchKMeans(n_clusters=total_clusters)\n",
        "\n",
        "# Convert training data to sparse format for efficiency\n",
        "X_train_sparse = sparse.csr_matrix(X_train)\n",
        "\n",
        "# Fit KMeans model\n",
        "kmeans.fit(X_train_sparse)\n",
        "\n",
        "# Output cluster labels\n",
        "print(kmeans.labels_)\n"
      ],
      "metadata": {
        "colab": {
          "base_uri": "https://localhost:8080/"
        },
        "id": "XKktAIla4Ff2",
        "outputId": "b8301f36-dde1-4f93-a7fd-dce645deb422"
      },
      "execution_count": null,
      "outputs": [
        {
          "output_type": "stream",
          "name": "stdout",
          "text": [
            "[0 6 8 ... 3 3 3]\n"
          ]
        }
      ]
    },
    {
      "cell_type": "markdown",
      "source": [
        "Step 6: Map Cluster Labels to Actual Digits"
      ],
      "metadata": {
        "id": "0pqdnCIg4JMz"
      }
    },
    {
      "cell_type": "code",
      "source": [
        "def retrieve_info(cluster_labels, y_train):\n",
        "    reference_labels = {}\n",
        "    for i in range(len(np.unique(kmeans.labels_))):\n",
        "        index = np.where(cluster_labels == i, 1, 0)\n",
        "        num = np.bincount(y_train[index == 1]).argmax()\n",
        "        reference_labels[i] = num\n",
        "    return reference_labels\n",
        "\n",
        "# Retrieve actual digit labels for each cluster\n",
        "reference_labels = retrieve_info(kmeans.labels_, y_train)\n",
        "print(reference_labels)\n",
        "\n"
      ],
      "metadata": {
        "colab": {
          "base_uri": "https://localhost:8080/"
        },
        "id": "Vt9fG8ly4Taz",
        "outputId": "50770935-0d97-44e6-a35c-167f5107f0f9"
      },
      "execution_count": null,
      "outputs": [
        {
          "output_type": "stream",
          "name": "stdout",
          "text": [
            "{0: 3, 1: 1, 2: 1, 3: 6, 4: 2, 5: 7, 6: 0, 7: 6, 8: 9, 9: 3}\n"
          ]
        }
      ]
    },
    {
      "cell_type": "markdown",
      "source": [
        "Step 7: Assign Labels to Each Image"
      ],
      "metadata": {
        "id": "g4YhxJVM4WhF"
      }
    },
    {
      "cell_type": "code",
      "source": [
        "number_labels = np.zeros(len(kmeans.labels_))\n",
        "\n",
        "for i in range(len(kmeans.labels_)):\n",
        "    number_labels[i] = reference_labels[kmeans.labels_[i]]\n",
        "\n",
        "print(number_labels[:20].astype('int'))  # Predicted labels for the first 20 images\n",
        "print(y_train[:20])                      # True labels\n"
      ],
      "metadata": {
        "colab": {
          "base_uri": "https://localhost:8080/"
        },
        "id": "INHgMGYC4ZVd",
        "outputId": "e53b1260-a802-4a9e-9c03-b4ddccb3f497"
      },
      "execution_count": null,
      "outputs": [
        {
          "output_type": "stream",
          "name": "stdout",
          "text": [
            "[3 0 9 1 7 2 1 3 1 7 3 1 3 6 1 7 2 1 6 7]\n",
            "[5 0 4 1 9 2 1 3 1 4 3 5 3 6 1 7 2 8 6 9]\n"
          ]
        }
      ]
    },
    {
      "cell_type": "markdown",
      "source": [
        "Step 8: Accuracy Calculation"
      ],
      "metadata": {
        "id": "FNnRKiD-4jgc"
      }
    },
    {
      "cell_type": "code",
      "source": [
        "accuracy = accuracy_score(number_labels, y_train)\n",
        "print(\"Accuracy:\", accuracy)\n",
        "\n"
      ],
      "metadata": {
        "colab": {
          "base_uri": "https://localhost:8080/"
        },
        "id": "uos8eozF4moT",
        "outputId": "858cd97c-c07d-4614-fa98-59c0d15232ae"
      },
      "execution_count": null,
      "outputs": [
        {
          "output_type": "stream",
          "name": "stdout",
          "text": [
            "Accuracy: 0.5342333333333333\n"
          ]
        }
      ]
    },
    {
      "cell_type": "markdown",
      "source": [
        "Step 9: Optimizing the Algorithm"
      ],
      "metadata": {
        "id": "H78-PAZf4qyR"
      }
    },
    {
      "cell_type": "code",
      "source": [
        "print(\"Inertia:\", kmeans.inertia_)\n"
      ],
      "metadata": {
        "colab": {
          "base_uri": "https://localhost:8080/"
        },
        "id": "RYIL3zl04vDM",
        "outputId": "a64c936d-ebb6-4d7f-96ec-98dc33d2e4e0"
      },
      "execution_count": null,
      "outputs": [
        {
          "output_type": "stream",
          "name": "stdout",
          "text": [
            "Inertia: 2377120.5\n"
          ]
        }
      ]
    }
  ]
}